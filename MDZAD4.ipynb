{
 "cells": [
  {
   "cell_type": "code",
   "execution_count": null,
   "metadata": {},
   "outputs": [],
   "source": [
    "%%file app.py\n",
    "from flask import Flask, request, jsonify\n",
    "app = Flask(__name__)\n",
    "\n",
    "@app.route('/api/v1.0/predict')\n",
    "def predict():\n",
    "    try:\n",
    "        num1 = float(request.args.get('num1'))\n",
    "        num2 = float(request.args.get('num2'))\n",
    "    except (TypeError, ValueError):\n",
    "        return jsonify({\"error\": \"Błąd!: Nieprawidłowe dane wejściowe\"}), 400\n",
    "        \n",
    "    prediction = 1 if (num1 + num2) > 5.8 else 0\n",
    "    return jsonify({\n",
    "        \"prediction\": prediction,\n",
    "        \"features\": {\n",
    "            \"num1\": num1,\n",
    "            \"num2\": num2\n",
    "        }\n",
    "    })\n",
    "\n",
    "if __name__ == '__main__':\n",
    "    app.run()"
   ]
  },
  {
   "cell_type": "code",
   "execution_count": null,
   "metadata": {},
   "outputs": [],
   "source": [
    "import requests\n",
    "res = requests.get(\"http://127.0.0.1:5000/api/v1.0/predict?num1=3&num2=4\")\n",
    "print(res.json())"
   ]
  }
 ],
 "metadata": {
  "kernelspec": {
   "display_name": "Python 3",
   "language": "python",
   "name": "python3"
  },
  "language_info": {
   "codemirror_mode": {
    "name": "ipython",
    "version": 3
   },
   "file_extension": ".py",
   "mimetype": "text/x-python",
   "name": "python",
   "nbconvert_exporter": "python",
   "pygments_lexer": "ipython3",
   "version": "3.8.3"
  }
 },
 "nbformat": 4,
 "nbformat_minor": 4
}
